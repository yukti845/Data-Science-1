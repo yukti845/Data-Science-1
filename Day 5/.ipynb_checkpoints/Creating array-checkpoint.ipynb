{
 "cells": [
  {
   "cell_type": "code",
   "execution_count": 1,
   "metadata": {},
   "outputs": [],
   "source": [
    "import numpy as np "
   ]
  },
  {
   "cell_type": "code",
   "execution_count": 21,
   "metadata": {},
   "outputs": [],
   "source": [
    "import pandas as pd"
   ]
  },
  {
   "cell_type": "code",
   "execution_count": 29,
   "metadata": {},
   "outputs": [
    {
     "name": "stdout",
     "output_type": "stream",
     "text": [
      "Requirement already satisfied: numpy in /Users/a1s1cmd/opt/anaconda3/lib/python3.7/site-packages (1.18.1)\r\n"
     ]
    }
   ],
   "source": [
    " !pip install numpy"
   ]
  },
  {
   "cell_type": "code",
   "execution_count": 6,
   "metadata": {},
   "outputs": [],
   "source": [
    "# Numpy's ain datatype is ndarray\n",
    "# Name : Array , Vector\n",
    "# 1 Dimensional\n",
    "# Shape = (1,3)\n",
    "\n",
    "a1 = np.array([1, 2, 3])\n",
    "\n",
    "# Name : Array , Matrix\n",
    "# More than 1 Dimensional\n",
    "# Shape = (2,3)\n",
    "\n",
    "a2 = np.array([[1, 2.0, 3.4],[4, 5, 7.3]])\n",
    "\n",
    "# Name : Array , Matrix\n",
    "# More than 1 Dimensional\n",
    "# Shape = (2,3,3) { Axis = 0 (2), Axis = 1 (3), Axis = n (3)}\n",
    "\n",
    "a3 = np.array([[1, 2, 3],[4, 5, 6,],[7, 8, 9]])"
   ]
  },
  {
   "cell_type": "code",
   "execution_count": 7,
   "metadata": {},
   "outputs": [
    {
     "data": {
      "text/html": [
       "<div>\n",
       "<style scoped>\n",
       "    .dataframe tbody tr th:only-of-type {\n",
       "        vertical-align: middle;\n",
       "    }\n",
       "\n",
       "    .dataframe tbody tr th {\n",
       "        vertical-align: top;\n",
       "    }\n",
       "\n",
       "    .dataframe thead th {\n",
       "        text-align: right;\n",
       "    }\n",
       "</style>\n",
       "<table border=\"1\" class=\"dataframe\">\n",
       "  <thead>\n",
       "    <tr style=\"text-align: right;\">\n",
       "      <th></th>\n",
       "      <th>0</th>\n",
       "      <th>1</th>\n",
       "      <th>2</th>\n",
       "    </tr>\n",
       "  </thead>\n",
       "  <tbody>\n",
       "    <tr>\n",
       "      <th>0</th>\n",
       "      <td>1.0</td>\n",
       "      <td>2.0</td>\n",
       "      <td>3.4</td>\n",
       "    </tr>\n",
       "    <tr>\n",
       "      <th>1</th>\n",
       "      <td>4.0</td>\n",
       "      <td>5.0</td>\n",
       "      <td>7.3</td>\n",
       "    </tr>\n",
       "  </tbody>\n",
       "</table>\n",
       "</div>"
      ],
      "text/plain": [
       "     0    1    2\n",
       "0  1.0  2.0  3.4\n",
       "1  4.0  5.0  7.3"
      ]
     },
     "execution_count": 7,
     "metadata": {},
     "output_type": "execute_result"
    }
   ],
   "source": [
    "df = pd.DataFrame(a2)\n",
    "df"
   ]
  },
  {
   "cell_type": "markdown",
   "metadata": {},
   "source": [
    "# Creating Arrays "
   ]
  },
  {
   "cell_type": "code",
   "execution_count": 10,
   "metadata": {},
   "outputs": [
    {
     "data": {
      "text/plain": [
       "array([1, 2, 3])"
      ]
     },
     "execution_count": 10,
     "metadata": {},
     "output_type": "execute_result"
    }
   ],
   "source": [
    "sample_array =  np.array([1, 2, 3])\n",
    "sample_array"
   ]
  },
  {
   "cell_type": "code",
   "execution_count": 11,
   "metadata": {},
   "outputs": [
    {
     "data": {
      "text/plain": [
       "dtype('int64')"
      ]
     },
     "execution_count": 11,
     "metadata": {},
     "output_type": "execute_result"
    }
   ],
   "source": [
    "sample_array.dtype"
   ]
  },
  {
   "cell_type": "code",
   "execution_count": 12,
   "metadata": {},
   "outputs": [],
   "source": [
    "# Signature: np.ones(shape, dtype=None, order='C')\n",
    "# Docstring:\n",
    "# Return a new array of given shape and type, filled with ones.\n",
    "\n",
    "ones = np.ones((2, 3))"
   ]
  },
  {
   "cell_type": "code",
   "execution_count": 13,
   "metadata": {},
   "outputs": [
    {
     "data": {
      "text/plain": [
       "array([[1., 1., 1.],\n",
       "       [1., 1., 1.]])"
      ]
     },
     "execution_count": 13,
     "metadata": {},
     "output_type": "execute_result"
    }
   ],
   "source": [
    "ones"
   ]
  },
  {
   "cell_type": "code",
   "execution_count": 14,
   "metadata": {},
   "outputs": [
    {
     "data": {
      "text/plain": [
       "dtype('float64')"
      ]
     },
     "execution_count": 14,
     "metadata": {},
     "output_type": "execute_result"
    }
   ],
   "source": [
    "ones.dtype"
   ]
  },
  {
   "cell_type": "code",
   "execution_count": 15,
   "metadata": {},
   "outputs": [
    {
     "data": {
      "text/plain": [
       "numpy.ndarray"
      ]
     },
     "execution_count": 15,
     "metadata": {},
     "output_type": "execute_result"
    }
   ],
   "source": [
    "type(ones)"
   ]
  },
  {
   "cell_type": "code",
   "execution_count": 16,
   "metadata": {},
   "outputs": [],
   "source": [
    "# Docstring:\n",
    "# zeros(shape, dtype=float, order='C')\n",
    "\n",
    "# Return a new array of given shape and type, filled with zeros.\n",
    "\n",
    "zeros = np.zeros((2, 3))"
   ]
  },
  {
   "cell_type": "code",
   "execution_count": 17,
   "metadata": {},
   "outputs": [
    {
     "data": {
      "text/plain": [
       "array([[0., 0., 0.],\n",
       "       [0., 0., 0.]])"
      ]
     },
     "execution_count": 17,
     "metadata": {},
     "output_type": "execute_result"
    }
   ],
   "source": [
    "zeros"
   ]
  },
  {
   "cell_type": "code",
   "execution_count": 18,
   "metadata": {},
   "outputs": [],
   "source": [
    "# Docstring:\n",
    "# arange([start,] stop[, step,], dtype=None)\n",
    "\n",
    "# Return evenly spaced values within a given interval.\n",
    "\n",
    "range_array = np.arange(0, 10 ,2)"
   ]
  },
  {
   "cell_type": "code",
   "execution_count": 19,
   "metadata": {},
   "outputs": [
    {
     "data": {
      "text/plain": [
       "array([0, 2, 4, 6, 8])"
      ]
     },
     "execution_count": 19,
     "metadata": {},
     "output_type": "execute_result"
    }
   ],
   "source": [
    "range_array"
   ]
  },
  {
   "cell_type": "code",
   "execution_count": 33,
   "metadata": {},
   "outputs": [
    {
     "data": {
      "text/plain": [
       "array([[6, 1, 8, 7, 8],\n",
       "       [1, 7, 1, 9, 4],\n",
       "       [4, 4, 0, 0, 0]])"
      ]
     },
     "execution_count": 33,
     "metadata": {},
     "output_type": "execute_result"
    }
   ],
   "source": [
    "# Docstring:\n",
    "# randint(low, high=None, size=None, dtype='l')\n",
    "\n",
    "# Return random integers from `low` (inclusive) to `high` (exclusive).\n",
    "\n",
    "random_array = np.random.randint(0, 10, size=(3,5))\n",
    "random_array"
   ]
  },
  {
   "cell_type": "code",
   "execution_count": 34,
   "metadata": {},
   "outputs": [
    {
     "data": {
      "text/plain": [
       "(3, 5)"
      ]
     },
     "execution_count": 34,
     "metadata": {},
     "output_type": "execute_result"
    }
   ],
   "source": [
    "random_array.shape"
   ]
  },
  {
   "cell_type": "code",
   "execution_count": 35,
   "metadata": {},
   "outputs": [
    {
     "data": {
      "text/plain": [
       "15"
      ]
     },
     "execution_count": 35,
     "metadata": {},
     "output_type": "execute_result"
    }
   ],
   "source": [
    "random_array.size"
   ]
  },
  {
   "cell_type": "code",
   "execution_count": 41,
   "metadata": {},
   "outputs": [
    {
     "data": {
      "text/plain": [
       "array([[0.60942238, 0.17489154, 0.31517225],\n",
       "       [0.74875495, 0.85204265, 0.46308806],\n",
       "       [0.18966893, 0.83934884, 0.75795599],\n",
       "       [0.69200756, 0.68735703, 0.93843085],\n",
       "       [0.64369299, 0.48331467, 0.10372846]])"
      ]
     },
     "execution_count": 41,
     "metadata": {},
     "output_type": "execute_result"
    }
   ],
   "source": [
    "# Docstring:\n",
    "# random(size=None)\n",
    "\n",
    "# Return random floats in the half-open interval [0.0, 1.0). Alias for\n",
    "\n",
    "np.random.random((5, 3))"
   ]
  },
  {
   "cell_type": "code",
   "execution_count": 42,
   "metadata": {},
   "outputs": [
    {
     "data": {
      "text/plain": [
       "array([[0.38941001, 0.26228433, 0.1104131 ],\n",
       "       [0.86251109, 0.32258309, 0.68482968],\n",
       "       [0.05269058, 0.83272764, 0.22238133],\n",
       "       [0.81505331, 0.6852715 , 0.43911768],\n",
       "       [0.99542058, 0.42975551, 0.69103533]])"
      ]
     },
     "execution_count": 42,
     "metadata": {},
     "output_type": "execute_result"
    }
   ],
   "source": [
    "randow_array_2 = np.random.random((5, 3))\n",
    "randow_array_2"
   ]
  },
  {
   "cell_type": "code",
   "execution_count": 43,
   "metadata": {},
   "outputs": [
    {
     "data": {
      "text/plain": [
       "(5, 3)"
      ]
     },
     "execution_count": 43,
     "metadata": {},
     "output_type": "execute_result"
    }
   ],
   "source": [
    "randow_array_2.shape"
   ]
  },
  {
   "cell_type": "code",
   "execution_count": 44,
   "metadata": {},
   "outputs": [
    {
     "data": {
      "text/plain": [
       "array([[0.71387959, 0.12601441, 0.92008202, 0.33984357, 0.7449178 ,\n",
       "        0.85729552, 0.62155699, 0.49955557],\n",
       "       [0.08677538, 0.71897912, 0.20457052, 0.29257797, 0.54016844,\n",
       "        0.79631281, 0.26799558, 0.31086252],\n",
       "       [0.51721042, 0.04220995, 0.49837481, 0.8492839 , 0.71083356,\n",
       "        0.13036568, 0.25573123, 0.56067834],\n",
       "       [0.37731908, 0.14490595, 0.42663208, 0.82395911, 0.99735085,\n",
       "        0.89360255, 0.69259577, 0.28833713],\n",
       "       [0.56346825, 0.92234557, 0.84385688, 0.8460382 , 0.85008856,\n",
       "        0.30080704, 0.92331608, 0.00329719],\n",
       "       [0.28718491, 0.44149339, 0.72765235, 0.64710219, 0.6358665 ,\n",
       "        0.60686287, 0.25201291, 0.43277389],\n",
       "       [0.15292278, 0.36377211, 0.85538501, 0.55950252, 0.20025535,\n",
       "        0.24232342, 0.55370051, 0.06494957],\n",
       "       [0.67593139, 0.26464158, 0.94116885, 0.98157178, 0.69386252,\n",
       "        0.84787235, 0.82123778, 0.64778547],\n",
       "       [0.0256863 , 0.17559954, 0.62716528, 0.16992837, 0.96098872,\n",
       "        0.39673864, 0.59052108, 0.45757418],\n",
       "       [0.2552259 , 0.5408129 , 0.16945241, 0.46446563, 0.5489905 ,\n",
       "        0.29591027, 0.65200611, 0.02211363],\n",
       "       [0.97868016, 0.05671327, 0.76409348, 0.61614239, 0.10454706,\n",
       "        0.52033679, 0.12141675, 0.14346351],\n",
       "       [0.33661793, 0.14813746, 0.28687629, 0.44207297, 0.59484333,\n",
       "        0.91262213, 0.40095515, 0.82580797]])"
      ]
     },
     "execution_count": 44,
     "metadata": {},
     "output_type": "execute_result"
    }
   ],
   "source": [
    "randow_array_3 = np.random.random((12, 8))\n",
    "randow_array_3"
   ]
  },
  {
   "cell_type": "code",
   "execution_count": null,
   "metadata": {},
   "outputs": [],
   "source": []
  }
 ],
 "metadata": {
  "kernelspec": {
   "display_name": "Python 3",
   "language": "python",
   "name": "python3"
  },
  "language_info": {
   "codemirror_mode": {
    "name": "ipython",
    "version": 3
   },
   "file_extension": ".py",
   "mimetype": "text/x-python",
   "name": "python",
   "nbconvert_exporter": "python",
   "pygments_lexer": "ipython3",
   "version": "3.7.6"
  }
 },
 "nbformat": 4,
 "nbformat_minor": 4
}
